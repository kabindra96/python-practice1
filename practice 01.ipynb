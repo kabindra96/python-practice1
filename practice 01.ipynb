{
 "cells": [
  {
   "cell_type": "code",
   "execution_count": 2,
   "id": "53734baa",
   "metadata": {},
   "outputs": [
    {
     "name": "stdout",
     "output_type": "stream",
     "text": [
      "26250.0\n",
      "1250.0\n"
     ]
    }
   ],
   "source": [
    "sal=25000\n",
    "exp=8\n",
    "if exp>=5:\n",
    "    bon=sal*0.05\n",
    "    total_salary=sal+bon\n",
    "    net_bonous=total_salary-sal\n",
    "    print(total_salary)\n",
    "    print(net_bonous)\n",
    "else:\n",
    "    print(\"no bonous\")"
   ]
  },
  {
   "cell_type": "code",
   "execution_count": 2,
   "id": "c703f5a3",
   "metadata": {},
   "outputs": [
    {
     "name": "stdout",
     "output_type": "stream",
     "text": [
      "Enter your salary64000\n",
      "Enter your experience6\n",
      "67200.0\n",
      "3200.0\n"
     ]
    }
   ],
   "source": [
    "sal=int(input(\"Enter your salary\"))\n",
    "exp=int(input(\"Enter your experience\"))\n",
    "if exp>=5:\n",
    "    bon=sal*0.05\n",
    "    total_salary=sal+bon\n",
    "    net_bonous=total_salary-sal\n",
    "    print(total_salary)\n",
    "    print(net_bonous)\n",
    "else:\n",
    "    print(\"No Bonous\")"
   ]
  },
  {
   "cell_type": "code",
   "execution_count": 5,
   "id": "8365c1b2",
   "metadata": {},
   "outputs": [
    {
     "name": "stdout",
     "output_type": "stream",
     "text": [
      "square\n"
     ]
    }
   ],
   "source": [
    "l=6\n",
    "b=6\n",
    "if l==b:\n",
    "    print(\"square\")\n",
    "else:\n",
    "    print(\"not square\")"
   ]
  },
  {
   "cell_type": "code",
   "execution_count": 8,
   "id": "ab314f9d",
   "metadata": {},
   "outputs": [
    {
     "name": "stdout",
     "output_type": "stream",
     "text": [
      "Enter the length12\n",
      "Enter the Breadth15\n",
      "it is not square\n"
     ]
    }
   ],
   "source": [
    "L=int(input(\"Enter the length\"))\n",
    "B=int(input(\"Enter the Breadth\"))\n",
    "if L==B:\n",
    "    print(\"it is square\")\n",
    "else:\n",
    "    print(\"it is not square\")"
   ]
  },
  {
   "cell_type": "code",
   "execution_count": 12,
   "id": "7b2839a6",
   "metadata": {},
   "outputs": [
    {
     "name": "stdout",
     "output_type": "stream",
     "text": [
      "Enter the 1st value9\n",
      "Ente the 2nd value55\n",
      "55\n"
     ]
    }
   ],
   "source": [
    "a=int(input(\"Enter the 1st value\"))\n",
    "b=int(input(\"Ente the 2nd value\"))\n",
    "if a>b:\n",
    "    print(a)\n",
    "else:\n",
    "    print(b)"
   ]
  },
  {
   "cell_type": "code",
   "execution_count": 34,
   "id": "f65b2b16",
   "metadata": {},
   "outputs": [
    {
     "name": "stdout",
     "output_type": "stream",
     "text": [
      "Enter the 1st value700\n",
      "Enter the 2nd value800\n",
      "Enter the 3rd value900\n",
      "invalid\n"
     ]
    }
   ],
   "source": [
    "a=int(input(\"Enter the 1st value\"))\n",
    "b=int(input(\"Enter the 2nd value\"))\n",
    "c=int(input(\"Enter the 3rd value\"))\n",
    "\n",
    "if a>b&a>c:\n",
    "    print(a)\n",
    "elif b>a&b>c:\n",
    "    print(b)\n",
    "elif c>a&c>b:\n",
    "    print(c)\n",
    "else:\n",
    "    print(\"invalid\")"
   ]
  },
  {
   "cell_type": "code",
   "execution_count": null,
   "id": "be2573c7",
   "metadata": {},
   "outputs": [],
   "source": [
    "a=int(input(\"enter 1st value\"))\n",
    "b=int(input(\"enter 2nd value\"))\n",
    "c=int(input(\"enter 3rd value\"))\n",
    "\n",
    "if a>b and a>c:\n",
    "    print(a)\n",
    "elif b>a and b>c:\n",
    "    print(b)\n",
    "elif c>a and c>b:\n",
    "    print(c)\n",
    "else:\n",
    "    print(\"invalid\")"
   ]
  },
  {
   "cell_type": "code",
   "execution_count": 18,
   "id": "89771d7f",
   "metadata": {},
   "outputs": [
    {
     "name": "stdout",
     "output_type": "stream",
     "text": [
      "enter the quantity11\n",
      "1100\n",
      "990.0\n",
      "110.0\n"
     ]
    }
   ],
   "source": [
    "q=int(input(\"enter the quantity\"))\n",
    "cost=q*100\n",
    "if cost>1000:\n",
    "    total_cost=cost*1.10\n",
    "    dis=total_cost-cost\n",
    "    total_amount=cost-dis\n",
    "    print(cost)\n",
    "    print(total_amount)\n",
    "    print(dis)\n",
    "else:\n",
    "    print(\"Discount Nahi Milega Bhai\")"
   ]
  },
  {
   "cell_type": "code",
   "execution_count": 29,
   "id": "29855133",
   "metadata": {},
   "outputs": [
    {
     "name": "stdout",
     "output_type": "stream",
     "text": [
      "enter your marks25\n",
      "E\n"
     ]
    }
   ],
   "source": [
    "n=int(input(\"enter your marks\"))\n",
    "if n<25:\n",
    "    print(\"F\")\n",
    "elif n>=25 and n<45:\n",
    "    print(\"E\")\n",
    "elif n>=45 and n<50:\n",
    "    print(\"D\")\n",
    "elif n>=50 and n<60:\n",
    "    print(\"C\")\n",
    "elif n>=60 and n<80:\n",
    "    print(\"B\")\n",
    "else:\n",
    "    print(\"A\")"
   ]
  },
  {
   "cell_type": "code",
   "execution_count": 38,
   "id": "4b247753",
   "metadata": {},
   "outputs": [
    {
     "name": "stdout",
     "output_type": "stream",
     "text": [
      "Enter your Age40\n",
      "Enter Your Age60\n",
      "Enter Your Age50\n",
      "60\n"
     ]
    }
   ],
   "source": [
    "man1=int(input(\"Enter your Age\"))\n",
    "man2=int(input(\"Enter Your Age\"))\n",
    "man3=int(input(\"Enter Your Age\"))\n",
    "if man1>man2 and man1>man3:\n",
    "    print(man1)\n",
    "elif man2>man1 and man2>man3:\n",
    "    print(man2)\n",
    "elif man3>man1 and man3>man2:\n",
    "    print(man3)\n",
    "else:\n",
    "    print(\"All men's are Same Age\")"
   ]
  },
  {
   "cell_type": "code",
   "execution_count": 44,
   "id": "d884ba93",
   "metadata": {},
   "outputs": [
    {
     "name": "stdout",
     "output_type": "stream",
     "text": [
      "Enter your Age70\n",
      "Enter your Age50\n",
      "Enter your Age40\n",
      "40\n"
     ]
    }
   ],
   "source": [
    "man1=int(input(\"Enter your Age\"))\n",
    "man2=int(input(\"Enter your Age\"))\n",
    "man3=int(input(\"Enter your Age\"))\n",
    "if man1<man2 and man1<man3:\n",
    "    print(man1)\n",
    "elif man2<man1 and man2<man3:\n",
    "    print(man2)\n",
    "elif man3<man1 and man3<man2:\n",
    "    print(man3)\n",
    "else:\n",
    "    print(\"All men's are same age\")"
   ]
  },
  {
   "cell_type": "code",
   "execution_count": 60,
   "id": "3eabcebd",
   "metadata": {},
   "outputs": [
    {
     "name": "stdout",
     "output_type": "stream",
     "text": [
      "number of class held100\n",
      "number of class attend74\n",
      "Not Allowed in Exam\n"
     ]
    }
   ],
   "source": [
    "clh=int(input(\"number of class held\"))\n",
    "cla=int(input(\"number of class attend\"))\n",
    "per_cl=(cla/clh)*100\n",
    "per_attend=clh*0.75\n",
    "if per_cl>=per_attend:\n",
    "    print(per_cl)\n",
    "    print(\"Allowed in Exam\")\n",
    "else:\n",
    "    print(\"Not Allowed in Exam\")"
   ]
  },
  {
   "cell_type": "code",
   "execution_count": null,
   "id": "e2c6148c",
   "metadata": {},
   "outputs": [],
   "source": []
  },
  {
   "cell_type": "code",
   "execution_count": null,
   "id": "b07805fb",
   "metadata": {},
   "outputs": [],
   "source": []
  }
 ],
 "metadata": {
  "kernelspec": {
   "display_name": "Python 3 (ipykernel)",
   "language": "python",
   "name": "python3"
  },
  "language_info": {
   "codemirror_mode": {
    "name": "ipython",
    "version": 3
   },
   "file_extension": ".py",
   "mimetype": "text/x-python",
   "name": "python",
   "nbconvert_exporter": "python",
   "pygments_lexer": "ipython3",
   "version": "3.9.12"
  }
 },
 "nbformat": 4,
 "nbformat_minor": 5
}
